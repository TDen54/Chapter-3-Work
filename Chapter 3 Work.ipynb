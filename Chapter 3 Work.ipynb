{
 "cells": [
  {
   "cell_type": "markdown",
   "id": "32ec7b5d",
   "metadata": {},
   "source": [
    "#Chapter 3 Questions"
   ]
  },
  {
   "cell_type": "markdown",
   "id": "5c9062bb",
   "metadata": {},
   "source": [
    "##Workbench Question 4"
   ]
  },
  {
   "cell_type": "code",
   "execution_count": 20,
   "id": "59c5bb26",
   "metadata": {},
   "outputs": [
    {
     "ename": "NameError",
     "evalue": "name 'score' is not defined",
     "output_type": "error",
     "traceback": [
      "\u001b[0;31m---------------------------------------------------------------------------\u001b[0m",
      "\u001b[0;31mNameError\u001b[0m                                 Traceback (most recent call last)",
      "Cell \u001b[0;32mIn[20], line 1\u001b[0m\n\u001b[0;32m----> 1\u001b[0m \u001b[38;5;28;01mif\u001b[39;00m score \u001b[38;5;241m>\u001b[39m A_score:\n\u001b[1;32m      2\u001b[0m     \u001b[38;5;28mprint\u001b[39m(\u001b[38;5;124m'\u001b[39m\u001b[38;5;124mYour grade is A.\u001b[39m\u001b[38;5;124m'\u001b[39m)\n\u001b[1;32m      3\u001b[0m \u001b[38;5;28;01melse\u001b[39;00m:\n",
      "\u001b[0;31mNameError\u001b[0m: name 'score' is not defined"
     ]
    }
   ],
   "source": [
    "if score > A_score:\n",
    "    print('Your grade is A.')\n",
    "else:\n",
    "    if score >= B_score:\n",
    "        print('Your grade is B.')\n",
    "    else:\n",
    "        if score > C_score:\n",
    "            print('Your grade is C.')\n",
    "        else:\n",
    "            if score >= D_score:\n",
    "                print('Your grade is D.')\n",
    "            else:\n",
    "                print('Your grade is F.')"
   ]
  },
  {
   "cell_type": "markdown",
   "id": "2582f0fd",
   "metadata": {},
   "source": [
    "##Workbench Question 5"
   ]
  },
  {
   "cell_type": "code",
   "execution_count": 6,
   "id": "559e37a3",
   "metadata": {},
   "outputs": [
    {
     "name": "stdout",
     "output_type": "stream",
     "text": [
      "45 is greater than 20\n"
     ]
    }
   ],
   "source": [
    "# Using nested decison structures with variables a and b \n",
    "a = 20\n",
    "b = 45\n",
    "\n",
    "if a > 10:\n",
    "    if b < 100:\n",
    "        if a > b:\n",
    "            print(a, \"is greater than\", b)\n",
    "        else:\n",
    "            print(b, \"is greater than\", a)\n",
    "    else:\n",
    "        print(\"b is not less than 100.\")\n",
    "else:\n",
    "    print(\"a is not greater than 10.\")\n"
   ]
  },
  {
   "cell_type": "markdown",
   "id": "150f2de4",
   "metadata": {},
   "source": [
    "##Programming Exercise 1"
   ]
  },
  {
   "cell_type": "code",
   "execution_count": 8,
   "id": "816a14a5",
   "metadata": {},
   "outputs": [
    {
     "name": "stdout",
     "output_type": "stream",
     "text": [
      "Enter a number between 1 and 7: 8\n",
      "Error: Please enter a number between 1 and 7.\n"
     ]
    }
   ],
   "source": [
    "\n",
    "user_input = input(\"Enter a number between 1 and 7: \")\n",
    "\n",
    "try:\n",
    "    number = int(user_input)\n",
    "    \n",
    "    if 1 <= number <= 7:\n",
    "        \n",
    "        days_of_week = [\"Monday\", \"Tuesday\", \"Wednesday\", \"Thursday\", \"Friday\", \"Saturday\", \"Sunday\"]\n",
    "        \n",
    "        day = days_of_week[number - 1]\n",
    "        print(\"The corresponding day is\", day)\n",
    "    else:\n",
    "        print(\"Error: Please enter a number between 1 and 7.\")\n",
    "except ValueError:\n",
    "\n",
    "    print(\"Error: Please enter a valid integer between 1 and 7.\")\n"
   ]
  },
  {
   "cell_type": "code",
   "execution_count": 17,
   "id": "9b45afec",
   "metadata": {},
   "outputs": [
    {
     "name": "stdout",
     "output_type": "stream",
     "text": [
      "Enter a number between 1 and 7: 4\n",
      "The corresponding day is Thursday\n"
     ]
    }
   ],
   "source": [
    "\n",
    "user_input = input(\"Enter a number between 1 and 7: \")\n",
    "\n",
    "try:\n",
    "    number = int(user_input)\n",
    "    \n",
    "    if 1 <= number <= 7:\n",
    "        \n",
    "        days_of_week = [\"Monday\", \"Tuesday\", \"Wednesday\", \"Thursday\", \"Friday\", \"Saturday\", \"Sunday\"]\n",
    "        \n",
    "        day = days_of_week[number - 1]\n",
    "        print(\"The corresponding day is\", day)\n",
    "    else:\n",
    "        print(\"Error: Please enter a number between 1 and 7.\")\n",
    "except ValueError:\n",
    "\n",
    "    print(\"Error: Please enter a valid integer between 1 and 7.\")"
   ]
  },
  {
   "cell_type": "markdown",
   "id": "e46677b9",
   "metadata": {},
   "source": [
    "##Programming Exercise 5"
   ]
  },
  {
   "cell_type": "code",
   "execution_count": 11,
   "id": "e7174db5",
   "metadata": {
    "scrolled": true
   },
   "outputs": [
    {
     "name": "stdout",
     "output_type": "stream",
     "text": [
      "Enter the mass of the object in kilograms: 600\n",
      "The object is too heavy. Weight: 5880.0 newtons\n"
     ]
    }
   ],
   "source": [
    "\n",
    "mass_kg = float(input(\"Enter the mass of the object in kilograms: \"))\n",
    "\n",
    "weight_newtons = mass_kg * 9.8\n",
    "\n",
    "if weight_newtons > 500:\n",
    "    print(\"The object is too heavy. Weight:\", weight_newtons, \"newtons\")\n",
    "elif weight_newtons < 100:\n",
    "    print(\"The object is too light. Weight:\", weight_newtons, \"newtons\")\n",
    "else:\n",
    "    print(\"The object's weight is:\", weight_newtons, \"newtons\")\n"
   ]
  },
  {
   "cell_type": "code",
   "execution_count": 16,
   "id": "a01d7be9",
   "metadata": {},
   "outputs": [
    {
     "name": "stdout",
     "output_type": "stream",
     "text": [
      "Enter the mass of the object in kilograms: 0\n",
      "The object is too light. Weight: 0.0 newtons\n"
     ]
    }
   ],
   "source": [
    "\n",
    "mass_kg = float(input(\"Enter the mass of the object in kilograms: \"))\n",
    "\n",
    "weight_newtons = mass_kg * 9.8\n",
    "\n",
    "if weight_newtons > 500:\n",
    "    print(\"The object is too heavy. Weight:\", weight_newtons, \"newtons\")\n",
    "elif weight_newtons < 100:\n",
    "    print(\"The object is too light. Weight:\", weight_newtons, \"newtons\")\n",
    "else:\n",
    "    print(\"The object's weight is:\", weight_newtons, \"newtons\")"
   ]
  },
  {
   "cell_type": "markdown",
   "id": "b88b6038",
   "metadata": {},
   "source": [
    "##Programming Exercise 15"
   ]
  },
  {
   "cell_type": "code",
   "execution_count": 13,
   "id": "85776023",
   "metadata": {},
   "outputs": [
    {
     "name": "stdout",
     "output_type": "stream",
     "text": [
      "Enter the number of seconds: 61\n",
      "1 minute(s) and 1 second(s)\n"
     ]
    }
   ],
   "source": [
    "\n",
    "seconds = int(input(\"Enter the number of seconds: \"))\n",
    "\n",
    "days = seconds // 86400 \n",
    "seconds %= 86400  \n",
    "\n",
    "hours = seconds // 3600  \n",
    "seconds %= 3600  \n",
    "\n",
    "minutes = seconds // 60  \n",
    "seconds %= 60 \n",
    "\n",
    "if days > 0:\n",
    "    print(f\"{days} day(s), {hours} hour(s), {minutes} minute(s), and {seconds} second(s)\")\n",
    "elif hours > 0:\n",
    "    print(f\"{hours} hour(s), {minutes} minute(s), and {seconds} second(s)\")\n",
    "elif minutes > 0:\n",
    "    print(f\"{minutes} minute(s) and {seconds} second(s)\")\n",
    "else:\n",
    "    print(f\"{seconds} second(s)\")\n"
   ]
  },
  {
   "cell_type": "code",
   "execution_count": 14,
   "id": "9d2eb367",
   "metadata": {},
   "outputs": [
    {
     "name": "stdout",
     "output_type": "stream",
     "text": [
      "Enter the number of seconds: 3841\n",
      "1 hour(s), 4 minute(s), and 1 second(s)\n"
     ]
    }
   ],
   "source": [
    "\n",
    "seconds = int(input(\"Enter the number of seconds: \"))\n",
    "\n",
    "days = seconds // 86400  \n",
    "seconds %= 86400  \n",
    "\n",
    "hours = seconds // 3600  \n",
    "seconds %= 3600  \n",
    "\n",
    "minutes = seconds // 60  \n",
    "seconds %= 60  \n",
    "\n",
    "if days > 0:\n",
    "    print(f\"{days} day(s), {hours} hour(s), {minutes} minute(s), and {seconds} second(s)\")\n",
    "elif hours > 0:\n",
    "    print(f\"{hours} hour(s), {minutes} minute(s), and {seconds} second(s)\")\n",
    "elif minutes > 0:\n",
    "    print(f\"{minutes} minute(s) and {seconds} second(s)\")\n",
    "else:\n",
    "    print(f\"{seconds} second(s)\")\n"
   ]
  },
  {
   "cell_type": "code",
   "execution_count": 15,
   "id": "a750a597",
   "metadata": {},
   "outputs": [
    {
     "name": "stdout",
     "output_type": "stream",
     "text": [
      "Enter the number of seconds: 87394\n",
      "1 day(s), 0 hour(s), 16 minute(s), and 34 second(s)\n"
     ]
    }
   ],
   "source": [
    "\n",
    "seconds = int(input(\"Enter the number of seconds: \"))\n",
    "\n",
    "days = seconds // 86400  \n",
    "seconds %= 86400 \n",
    "\n",
    "hours = seconds // 3600  \n",
    "seconds %= 3600  \n",
    "minutes = seconds // 60 \n",
    "seconds %= 60 \n",
    "\n",
    "if days > 0:\n",
    "    print(f\"{days} day(s), {hours} hour(s), {minutes} minute(s), and {seconds} second(s)\")\n",
    "elif hours > 0:\n",
    "    print(f\"{hours} hour(s), {minutes} minute(s), and {seconds} second(s)\")\n",
    "elif minutes > 0:\n",
    "    print(f\"{minutes} minute(s) and {seconds} second(s)\")\n",
    "else:\n",
    "    print(f\"{seconds} second(s)\")\n"
   ]
  },
  {
   "cell_type": "markdown",
   "id": "60bc24c9",
   "metadata": {},
   "source": [
    "##Programming Exercise 16"
   ]
  },
  {
   "cell_type": "code",
   "execution_count": 18,
   "id": "5bba5f3a",
   "metadata": {},
   "outputs": [
    {
     "name": "stdout",
     "output_type": "stream",
     "text": [
      "Enter a year: 2009\n",
      "February in 2009 has 28 days.\n"
     ]
    }
   ],
   "source": [
    "\n",
    "year = int(input(\"Enter a year: \"))\n",
    "\n",
    "\n",
    "if (year % 100 == 0 and year % 400 == 0) or (year % 100 != 0 and year % 4 == 0):\n",
    "    days_in_february = 29  \n",
    "else:\n",
    "    days_in_february = 28  \n",
    "\n",
    "\n",
    "print(f\"February in {year} has {days_in_february} days.\")\n"
   ]
  },
  {
   "cell_type": "code",
   "execution_count": 19,
   "id": "aad3195b",
   "metadata": {},
   "outputs": [
    {
     "name": "stdout",
     "output_type": "stream",
     "text": [
      "Enter a year: 2000\n",
      "February in 2000 has 29 days.\n"
     ]
    }
   ],
   "source": [
    "\n",
    "year = int(input(\"Enter a year: \"))\n",
    "\n",
    "\n",
    "if (year % 100 == 0 and year % 400 == 0) or (year % 100 != 0 and year % 4 == 0):\n",
    "    days_in_february = 29  \n",
    "else:\n",
    "    days_in_february = 28  \n",
    "\n",
    "\n",
    "print(f\"February in {year} has {days_in_february} days.\")"
   ]
  }
 ],
 "metadata": {
  "kernelspec": {
   "display_name": "Python 3 (ipykernel)",
   "language": "python",
   "name": "python3"
  },
  "language_info": {
   "codemirror_mode": {
    "name": "ipython",
    "version": 3
   },
   "file_extension": ".py",
   "mimetype": "text/x-python",
   "name": "python",
   "nbconvert_exporter": "python",
   "pygments_lexer": "ipython3",
   "version": "3.11.4"
  }
 },
 "nbformat": 4,
 "nbformat_minor": 5
}
